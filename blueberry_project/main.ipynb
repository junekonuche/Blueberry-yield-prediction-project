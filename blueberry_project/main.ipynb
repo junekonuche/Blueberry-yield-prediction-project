{
 "cells": [
  {
   "cell_type": "code",
   "execution_count": 1,
   "id": "5c40e7a4",
   "metadata": {},
   "outputs": [
    {
     "name": "stdout",
     "output_type": "stream",
     "text": [
      "You chose:rock\n",
      "Computer chose: paper\n",
      "Computer wins!\n"
     ]
    }
   ],
   "source": [
    "import random\n",
    "\n",
    "choices = [\"rock\",\"paper\",\"scissors\"]\n",
    "\n",
    "user_choice = input(\"Enter rock,paper,scissors:\")\n",
    "if user_choice not in choices:\n",
    "    print(\"Invalid input!Please choose rock,paper, or scissors\")\n",
    "else:\n",
    "    computer_choice = random.choice(choices)\n",
    "    \n",
    "    print(f\"You chose:{user_choice}\")\n",
    "    print(f\"Computer chose: {computer_choice}\")\n",
    "    \n",
    "    if user_choice == computer_choice:\n",
    "        print(\"It's a tie\")\n",
    "    elif(user_choice == \"rock\" and computer_choice == \"scissors\") or\\\n",
    "        (user_choice == \"paper\" and computer_choice == \"rock\") or\\\n",
    "        (user_choice == \"scissors\" and computer_choice == \"paper\"):\n",
    "         print(\"You win!\")\n",
    "    else:\n",
    "         print(\"Computer wins!\")  "
   ]
  }
 ],
 "metadata": {
  "kernelspec": {
   "display_name": ".venv",
   "language": "python",
   "name": "python3"
  },
  "language_info": {
   "codemirror_mode": {
    "name": "ipython",
    "version": 3
   },
   "file_extension": ".py",
   "mimetype": "text/x-python",
   "name": "python",
   "nbconvert_exporter": "python",
   "pygments_lexer": "ipython3",
   "version": "3.13.4"
  }
 },
 "nbformat": 4,
 "nbformat_minor": 5
}
