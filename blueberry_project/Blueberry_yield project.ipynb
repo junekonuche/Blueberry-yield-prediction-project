{
 "cells": [
  {
   "cell_type": "code",
   "execution_count": null,
   "id": "c35b9f58",
   "metadata": {},
   "outputs": [
    {
     "name": "stderr",
     "output_type": "stream",
     "text": [
      "c:\\Users\\JUNE\\Desktop\\.venv\\Lib\\site-packages\\sklearn\\linear_model\\_coordinate_descent.py:695: ConvergenceWarning: Objective did not converge. You might want to increase the number of iterations, check the scale of the features or consider increasing regularisation. Duality gap: 2.070e+09, tolerance: 2.195e+06\n",
      "  model = cd_fast.enet_coordinate_descent(\n"
     ]
    },
    {
     "name": "stdout",
     "output_type": "stream",
     "text": [
      "Validation MAE Scores:\n",
      "Linear Regression: 370.4475\n",
      "Polynomial Regression: 372.1067\n",
      "Ridge Regression: 370.7443\n",
      "Lasso Regression: 370.8354\n",
      "ElasticNet Regression: 370.8311\n",
      "✅ submission.csv saved and ready for Kaggle upload!\n"
     ]
    },
    {
     "name": "stderr",
     "output_type": "stream",
     "text": [
      "c:\\Users\\JUNE\\Desktop\\.venv\\Lib\\site-packages\\sklearn\\linear_model\\_coordinate_descent.py:695: ConvergenceWarning: Objective did not converge. You might want to increase the number of iterations, check the scale of the features or consider increasing regularisation. Duality gap: 2.074e+09, tolerance: 2.195e+06\n",
      "  model = cd_fast.enet_coordinate_descent(\n"
     ]
    }
   ],
   "source": [
    "\n",
    "# Blueberry yield prediction project\n",
    "\n",
    "import pandas as pd\n",
    "import numpy as np\n",
    "\n",
    "from sklearn.model_selection import train_test_split\n",
    "from sklearn.preprocessing import StandardScaler, PolynomialFeatures\n",
    "from sklearn.linear_model import LinearRegression, Ridge, Lasso, ElasticNet\n",
    "from sklearn.metrics import mean_absolute_error\n",
    "\n",
    "train = pd.read_csv(\"train.csv\")\n",
    "test = pd.read_csv(\"test.csv\")\n",
    "\n",
    "X = train.drop(columns=[\"yield\", \"id\"])\n",
    "y = train[\"yield\"]\n",
    "X_test_final = test.drop(columns=[\"id\"])\n",
    "\n",
    "X_train, X_valid, y_train, y_valid = train_test_split(\n",
    "    X, y, test_size=0.2, random_state=42\n",
    ")\n",
    "\n",
    "scaler = StandardScaler()\n",
    "X_train_scaled = scaler.fit_transform(X_train)\n",
    "X_valid_scaled = scaler.transform(X_valid)\n",
    "X_test_scaled = scaler.transform(X_test_final)\n",
    "\n",
    "results = {}\n",
    "\n",
    "lin_reg = LinearRegression()\n",
    "lin_reg.fit(X_train_scaled, y_train)\n",
    "y_pred = lin_reg.predict(X_valid_scaled)\n",
    "results[\"Linear Regression\"] = mean_absolute_error(y_valid, y_pred)\n",
    "\n",
    "poly = PolynomialFeatures(degree=2)\n",
    "X_train_poly = poly.fit_transform(X_train_scaled)\n",
    "X_valid_poly = poly.transform(X_valid_scaled)\n",
    "\n",
    "poly_reg = LinearRegression()\n",
    "poly_reg.fit(X_train_poly, y_train)\n",
    "y_pred = poly_reg.predict(X_valid_poly)\n",
    "results[\"Polynomial Regression\"] = mean_absolute_error(y_valid, y_pred)\n",
    "\n",
    "ridge = Ridge(alpha=1.0)\n",
    "ridge.fit(X_train_scaled, y_train)\n",
    "y_pred = ridge.predict(X_valid_scaled)\n",
    "results[\"Ridge Regression\"] = mean_absolute_error(y_valid, y_pred)\n",
    "\n",
    "lasso = Lasso(alpha=0.001)\n",
    "lasso.fit(X_train_scaled, y_train)\n",
    "y_pred = lasso.predict(X_valid_scaled)\n",
    "results[\"Lasso Regression\"] = mean_absolute_error(y_valid, y_pred)\n",
    "\n",
    "elastic = ElasticNet(alpha=0.001, l1_ratio=0.5)\n",
    "elastic.fit(X_train_scaled, y_train)\n",
    "y_pred = elastic.predict(X_valid_scaled)\n",
    "results[\"ElasticNet Regression\"] = mean_absolute_error(y_valid, y_pred)\n",
    "\n",
    "print(\"Validation MAE Scores:\")\n",
    "for model, mae in results.items():\n",
    "    print(f\"{model}: {mae:.4f}\")\n",
    "\n",
    "\n",
    "final_model = Ridge(alpha=1.0)\n",
    "final_model.fit(scaler.fit_transform(X), y)\n",
    "\n",
    "\n",
    "test_preds = final_model.predict(scaler.transform(X_test_final))\n",
    "\n",
    "submission = pd.DataFrame({\n",
    "    \"id\": test[\"id\"],\n",
    "    \"yield\": test_preds\n",
    "})\n",
    "\n",
    "submission.to_csv(\"submission.csv\", index=False)\n",
    "print(\"✅ submission.csv saved and ready for Kaggle upload!\")\n"
   ]
  }
 ],
 "metadata": {
  "kernelspec": {
   "display_name": ".venv",
   "language": "python",
   "name": "python3"
  },
  "language_info": {
   "codemirror_mode": {
    "name": "ipython",
    "version": 3
   },
   "file_extension": ".py",
   "mimetype": "text/x-python",
   "name": "python",
   "nbconvert_exporter": "python",
   "pygments_lexer": "ipython3",
   "version": "3.13.4"
  }
 },
 "nbformat": 4,
 "nbformat_minor": 5
}
